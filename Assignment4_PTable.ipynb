{
 "cells": [
  {
   "cell_type": "markdown",
   "metadata": {},
   "source": [
    "# question2\n"
   ]
  },
  {
   "cell_type": "code",
   "execution_count": 3,
   "metadata": {},
   "outputs": [],
   "source": [
    "Periodic_Table = {}\n",
    "\n",
    "class element:\n",
    "    def __init__(self,symbol,name,atomic_number,row,column):\n",
    "        self.symbol = symbol\n",
    "        self.name = name\n",
    "        self.atomic_number = atomic_number\n",
    "        self.row = row\n",
    "        self.column = column\n",
    "\n",
    "def main_window():\n",
    "    print(\"\\n\\n\")\n",
    "    print(\"choose option you want:\")\n",
    "    print(\"1. See all the information that is stored about any element, by entering that element's symbol\")\n",
    "    print(\"2. Choose a property, and see that property for each element in the table.\")\n",
    "    print(\"3. Enter a new element\")\n",
    "    print(\"4. Change the attributes of an element, by entering the element's symbol.\")\n",
    "    print(\"5.Exit the program\")"
   ]
  },
  {
   "cell_type": "markdown",
   "metadata": {},
   "source": [
    "use class function to define periodic_table,and show choise\n"
   ]
  },
  {
   "cell_type": "code",
   "execution_count": 4,
   "metadata": {},
   "outputs": [],
   "source": [
    "def checkperiodic_table(element,n):\n",
    "    if n == 1 or n == 2:\n",
    "        print(\"symbol   \"+ element.symbol)\n",
    "    if n == 1 or n == 3:\n",
    "        print(\"name   \" + element.name)\n",
    "    if n == 1 or n == 4:\n",
    "        print(\"atomic   \" + str(element.atomic_number))\n",
    "    if n == 1 or n == 6:\n",
    "        print(\"row   \" + str(element.row))\n",
    "    if n == 1 or n == 7:\n",
    "        print(\"column   \" + str(element.column))"
   ]
  },
  {
   "cell_type": "markdown",
   "metadata": {},
   "source": [
    "define checkperiodic_table function to check elements information\n"
   ]
  },
  {
   "cell_type": "code",
   "execution_count": null,
   "metadata": {},
   "outputs": [
    {
     "name": "stdout",
     "output_type": "stream",
     "text": [
      "\n",
      "\n",
      "\n",
      "choose option you want:\n",
      "1. See all the information that is stored about any element, by entering that element's symbol\n",
      "2. Choose a property, and see that property for each element in the table.\n",
      "3. Enter a new element\n",
      "4. Change the attributes of an element, by entering the element's symbol.\n",
      "5.Exit the program\n",
      "enter your option\n",
      "3\n",
      "enter symbol: Si\n",
      "enter element name: silicon\n",
      "enter atomic_number: 14\n",
      "enter row number: 3\n",
      "enter column number: 3\n",
      "Si  added\n",
      "\n",
      "\n",
      "\n",
      "Click Return key to return.\n",
      "\n",
      "\n",
      "\n",
      "choose option you want:\n",
      "1. See all the information that is stored about any element, by entering that element's symbol\n",
      "2. Choose a property, and see that property for each element in the table.\n",
      "3. Enter a new element\n",
      "4. Change the attributes of an element, by entering the element's symbol.\n",
      "5.Exit the program\n",
      "enter your option\n",
      "1\n",
      "enter symbol: Si\n",
      "symbol   Si\n",
      "name   silicon\n",
      "atomic   14\n",
      "row   3\n",
      "column   3\n"
     ]
    }
   ],
   "source": [
    "while (True):\n",
    "    main_window()\n",
    "    option = int(input(\"enter your option\\n\"))\n",
    "\n",
    "    if option == 1:\n",
    "        symbol = input(\"enter symbol: \")\n",
    "        checkperiodic_table(Periodic_Table[symbol], 1)\n",
    "    elif option == 2:\n",
    "        print(\"enter property you want to see:\\n\")\n",
    "        print(\"1. view all symbol\")\n",
    "        print(\"2. view all name\")\n",
    "        print(\"3. view all atomic_number\")\n",
    "        print(\"4. view all row\")\n",
    "        print(\"5. view all column\")\n",
    "\n",
    "        choice = int(input())\n",
    "        if choice == 1:\n",
    "            for i in Periodic_Table.keys():\n",
    "                checkperiodic_table(Periodic_Table[i], 2)\n",
    "        elif choice == 2:\n",
    "            for i in periodic_table.keys():\n",
    "                checkperiodic_table(Periodic_Table[i], 3)\n",
    "        elif choice == 3:\n",
    "            for i in periodic_table.keys():\n",
    "                checkperiodic_table(Periodic_Table[i], 4)\n",
    "        elif choice == 4:\n",
    "            for i in periodic_table.keys():\n",
    "                checkperiodic_table(Periodic_Table[i], 5)\n",
    "        elif choice == 5:\n",
    "            for i in periodic_table.keys():\n",
    "                checkperiodic_table(Periodic_Table[i], 6)\n",
    "\n",
    "    elif option == 3:\n",
    "        symbol = input(\"enter symbol: \")\n",
    "        name = input(\"enter element name: \")\n",
    "        atomic_number = int(input(\"enter atomic_number: \"))\n",
    "        row = int(input(\"enter row number: \"))\n",
    "        column = int(input(\"enter column number: \"))\n",
    "\n",
    "        if symbol not in Periodic_Table.keys():\n",
    "            e = element(symbol,name,atomic_number,row,column)\n",
    "            Periodic_Table[symbol] = e\n",
    "            print(symbol + \"  added\\n\")\n",
    "        else:\n",
    "            print(symbol + \"  already in\\n\")\n",
    "\n",
    "    elif option == 4:\n",
    "        symbol = input(\"enter symbol: \")\n",
    "        name = input(\"enter element name: \")\n",
    "        atomic_number = int(input(\"enter atomic_number: \"))\n",
    "        row = int(input(\"enter row number: \"))\n",
    "        column = int(input(\"enter column number: \"))\n",
    "\n",
    "        e = element(symbol, name, atomic_number, row, column)\n",
    "        Periodic_Table[symbol] = e\n",
    "\n",
    "        print(symbol + \"  updated\\n\")\n",
    "\n",
    "    elif option == 5:\n",
    "\n",
    "        print(\"exit\")\n",
    "\n",
    "        break\n",
    "\n",
    "    input(\"\\n\\nClick Return key to return.\")"
   ]
  },
  {
   "cell_type": "markdown",
   "metadata": {},
   "source": [
    "in while condition, input numbers to decide what option we want to do "
   ]
  },
  {
   "cell_type": "code",
   "execution_count": null,
   "metadata": {},
   "outputs": [],
   "source": []
  }
 ],
 "metadata": {
  "kernelspec": {
   "display_name": "Python 3",
   "language": "python",
   "name": "python3"
  },
  "language_info": {
   "codemirror_mode": {
    "name": "ipython",
    "version": 3
   },
   "file_extension": ".py",
   "mimetype": "text/x-python",
   "name": "python",
   "nbconvert_exporter": "python",
   "pygments_lexer": "ipython3",
   "version": "3.7.3"
  }
 },
 "nbformat": 4,
 "nbformat_minor": 2
}
