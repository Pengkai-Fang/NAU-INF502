{
 "cells": [
  {
   "cell_type": "code",
   "execution_count": 1,
   "metadata": {},
   "outputs": [
    {
     "name": "stdout",
     "output_type": "stream",
     "text": [
      "number1:30\n",
      "number2:60\n",
      "30\n"
     ]
    }
   ],
   "source": [
    "def GDF(a, b):\n",
    "    if a > b:\n",
    "        smaller = b\n",
    "        larger = a\n",
    "    else:\n",
    "        smaller = a\n",
    "        larger = b\n",
    "\n",
    "    if (larger % smaller == 0):\n",
    "        return smaller\n",
    "\n",
    "    else:\n",
    "        remainder = larger % smaller\n",
    "        next_stage = smaller\n",
    "    if (next_stage % remainder == 0):\n",
    "        return remainder\n",
    "    else:\n",
    "        return GDF(remainder, next_stage)\n",
    "\n",
    "num1 = int(input('number1:'))\n",
    "num2 = int(input('number2:'))\n",
    "print(GDF(num1, num2))"
   ]
  },
  {
   "cell_type": "code",
   "execution_count": 2,
   "metadata": {
    "scrolled": true
   },
   "outputs": [
    {
     "name": "stdout",
     "output_type": "stream",
     "text": [
      "number1:48\n",
      "number2:30\n",
      "6\n"
     ]
    }
   ],
   "source": [
    "num1 = int(input('number1:'))\n",
    "num2 = int(input('number2:'))\n",
    "print(GDF(num1, num2))"
   ]
  },
  {
   "cell_type": "code",
   "execution_count": 3,
   "metadata": {
    "scrolled": false
   },
   "outputs": [
    {
     "name": "stdout",
     "output_type": "stream",
     "text": [
      "number1:30\n",
      "number2:48\n",
      "6\n"
     ]
    }
   ],
   "source": [
    "num1 = int(input('number1:'))\n",
    "num2 = int(input('number2:'))\n",
    "print(GDF(num1, num2))"
   ]
  },
  {
   "cell_type": "markdown",
   "metadata": {},
   "source": [
    "So in the beginning, I first defined the GDF function and then judged the size of the two numbers. Then, I considered that if the small number is just the greatest common divisor of the two numbers, then the answer is the small number. Finally, for the normal case, the remainder and the small number are then subjected to the greatest common divisor operation. If the operation has not been completed, then just go back to the GDF function so we can find the greatest common divisor after multiple times. "
   ]
  }
 ],
 "metadata": {
  "kernelspec": {
   "display_name": "Python 3",
   "language": "python",
   "name": "python3"
  },
  "language_info": {
   "codemirror_mode": {
    "name": "ipython",
    "version": 3
   },
   "file_extension": ".py",
   "mimetype": "text/x-python",
   "name": "python",
   "nbconvert_exporter": "python",
   "pygments_lexer": "ipython3",
   "version": "3.7.3"
  }
 },
 "nbformat": 4,
 "nbformat_minor": 2
}
