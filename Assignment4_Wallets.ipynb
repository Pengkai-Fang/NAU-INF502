{
 "cells": [
  {
   "cell_type": "markdown",
   "metadata": {},
   "source": [
    "# question1\n"
   ]
  },
  {
   "cell_type": "code",
   "execution_count": null,
   "metadata": {},
   "outputs": [],
   "source": [
    "import os\n",
    "\n",
    "Wallets = {}\n",
    "Wallets[(\"First Wallet\")] = input(\"First number:\")\n",
    "Wallets[(\"Second Wallet\")] = input(\"Second number:\")\n",
    "Wallets[(\"Third Wallet\")] = input(\"Third number:\")\n",
    "Wallets[(\"Fourth Wallet\")] = input(\"Fourth number:\")\n",
    "Wallets[(\"Fifth Wallet\")] = input(\"Fifth number:\")\n",
    "print(Wallets)"
   ]
  },
  {
   "cell_type": "markdown",
   "metadata": {},
   "source": [
    "###### creat wallets and put numbers in.\n"
   ]
  },
  {
   "cell_type": "code",
   "execution_count": null,
   "metadata": {},
   "outputs": [],
   "source": [
    "def print_main_window():\n",
    "    os.system('clear')\n",
    "    print(\"\\n\\n\\n\")\n",
    "    print(\"Choose an option as follows: \")\n",
    "    print(\"[1] The fattest wallet has $ value in it\")\n",
    "    print(\"[2] The skinniest wallet has $ value in it\")\n",
    "    print(\"[3] All together, these wallets have $ value in them\")\n",
    "    print(\"[4] All together, the total value of these wallets is worth $ dimes\")\n",
    "    print(\"[5] EXIT\")"
   ]
  },
  {
   "cell_type": "markdown",
   "metadata": {},
   "source": [
    "define what we will do next"
   ]
  },
  {
   "cell_type": "code",
   "execution_count": null,
   "metadata": {},
   "outputs": [],
   "source": [
    "def Fattest(Wallets):\n",
    "    max_value = max(Wallets.values())\n",
    "    return max_value\n",
    "\n",
    "def Skinniest(Wallets):\n",
    "    min_value = min(Wallets.values())\n",
    "    return min_value\n",
    "\n",
    "def All_Together(Wallets):\n",
    "    Add = sum(int(number) for number in Wallets.values())\n",
    "    return Add\n",
    "\n",
    "def Dime_value(Wallets):\n",
    "    Dimes = 10*sum(int(number) for number in Wallets.values())\n",
    "    return Dimes\n"
   ]
  },
  {
   "cell_type": "markdown",
   "metadata": {},
   "source": [
    "define functions relate to mian_window function"
   ]
  },
  {
   "cell_type": "code",
   "execution_count": null,
   "metadata": {},
   "outputs": [],
   "source": [
    "while (True):\n",
    "        print_main_window()\n",
    "        option = int(input(\"Your option: \"))\n",
    "        os.system('clear')\n",
    "        if (option == 1):\n",
    "            print(\"The fattest wallet has $\", Fattest(Wallets),\"value in it\")\n",
    "\n",
    "        elif (option == 2):\n",
    "            print(\"The skinniest wallet has $\", Skinniest(Wallets), \"value in it\")\n",
    "\n",
    "        elif (option == 3):\n",
    "            print(\"All together, these wallets have $\", All_Together(Wallets), \"value in them\")\n",
    "\n",
    "        elif (option == 4):\n",
    "         print(\"All together, the total value of these wallets is worth $\", Dime_value(Wallets), \"dimes\")\n",
    "\n",
    "        else:\n",
    "            print(\"Invalid option. \")\n",
    "            break\n",
    "\n",
    "        input(\"\\n\\nClick Return key to return\")"
   ]
  },
  {
   "cell_type": "markdown",
   "metadata": {},
   "source": [
    "define while function and choose what we want to see"
   ]
  },
  {
   "cell_type": "code",
   "execution_count": null,
   "metadata": {},
   "outputs": [],
   "source": []
  }
 ],
 "metadata": {
  "kernelspec": {
   "display_name": "Python 3",
   "language": "python",
   "name": "python3"
  },
  "language_info": {
   "codemirror_mode": {
    "name": "ipython",
    "version": 3
   },
   "file_extension": ".py",
   "mimetype": "text/x-python",
   "name": "python",
   "nbconvert_exporter": "python",
   "pygments_lexer": "ipython3",
   "version": "3.7.3"
  }
 },
 "nbformat": 4,
 "nbformat_minor": 2
}
